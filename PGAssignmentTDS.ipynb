{
 "cells": [
  {
   "cell_type": "markdown",
   "metadata": {},
   "source": [
    "<center>\n",
    "    <img src=\"https://cf-courses-data.s3.us.cloud-object-storage.appdomain.cloud/IBMDeveloperSkillsNetwork-DS0105EN-SkillsNetwork/labs/Module2/images/SN_web_lightmode.png\" width=\"300\" alt=\"cognitiveclass.ai logo\">\n",
    "</center>\n"
   ]
  },
  {
   "cell_type": "markdown",
   "metadata": {},
   "source": [
    "#### Add your code below following the instructions given in the course\n"
   ]
  },
  {
   "cell_type": "markdown",
   "metadata": {},
   "source": [
    "# My First Jupyter Notebook on Watson Studio"
   ]
  },
  {
   "cell_type": "markdown",
   "metadata": {},
   "source": [
    "**Muhammad Irfan Mustafa**\n",
    "Lecturer"
   ]
  },
  {
   "cell_type": "markdown",
   "metadata": {},
   "source": [
    "### The following code will add 2 digits"
   ]
  },
  {
   "cell_type": "code",
   "execution_count": 1,
   "metadata": {},
   "outputs": [
    {
     "data": {
      "text/plain": [
       "2"
      ]
     },
     "execution_count": 1,
     "metadata": {},
     "output_type": "execute_result"
    }
   ],
   "source": [
    "1 + 1"
   ]
  },
  {
   "attachments": {
    "c8280cd3-cdb8-4e4e-a9c8-49c11aa5e5b7.png": {
     "image/png": "[encoded data removed]"
    }
   },
   "cell_type": "markdown",
   "metadata": {},
   "source": [
    "#### Horizontal rule\n",
    "\n",
    "*** \n",
    "\n",
    "#### Bulleted List\n",
    "- 1st Bullet\n",
    "- 2nd Bullet\n",
    "- 3rd Bullet\n",
    "\n",
    "#### Numbered List\n",
    "1. 1st item\n",
    "2. 2nd item\n",
    "3. 3rd item\n",
    "\n",
    "#### Tables\n",
    "\n",
    "| # | Heading 1 | Heading 2 |\n",
    "| ---- | ---- | ---- |\n",
    "| 1 | C1R1 | C2R1 |\n",
    "| 2 | C1R2 | C2R2 |\n",
    "\n",
    "#### Hyperlinks\n",
    "[Click to search with google](http://google.co.uk)\n",
    "\n",
    "#### Images\n",
    "![CUST LOGO.png](attachment:c8280cd3-cdb8-4e4e-a9c8-49c11aa5e5b7.png)\n",
    "\n",
    "#### Blocked quotes\n",
    "> This is an example of blocked quote."
   ]
  }
 ],
 "metadata": {
  "kernelspec": {
   "display_name": "Python",
   "language": "python",
   "name": "conda-env-python-py"
  },
  "language_info": {
   "codemirror_mode": {
    "name": "ipython",
    "version": 3
   },
   "file_extension": ".py",
   "mimetype": "text/x-python",
   "name": "python",
   "nbconvert_exporter": "python",
   "pygments_lexer": "ipython3",
   "version": "3.7.12"
  }
 },
 "nbformat": 4,
 "nbformat_minor": 4
}
